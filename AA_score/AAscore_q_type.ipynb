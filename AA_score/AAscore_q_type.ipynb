{
 "cells": [
  {
   "cell_type": "code",
   "execution_count": 1,
   "metadata": {},
   "outputs": [],
   "source": [
    "import pandas as pd \n",
    "import numpy as np \n",
    "import json \n",
    "import csv"
   ]
  },
  {
   "cell_type": "markdown",
   "metadata": {},
   "source": [
    "# LOAD DATA"
   ]
  },
  {
   "cell_type": "code",
   "execution_count": 4,
   "metadata": {},
   "outputs": [],
   "source": [
    "DPR_DATA='/PATH/dpr_scores.json'\n",
    "EADPR_DATA='/PATH/eadpr_scores.json'"
   ]
  },
  {
   "cell_type": "code",
   "execution_count": 5,
   "metadata": {},
   "outputs": [],
   "source": [
    "dpr_data = pd.read_json(DPR_DATA)\n",
    "eadpr_data = pd.read_json(EADPR_DATA)"
   ]
  },
  {
   "cell_type": "code",
   "execution_count": 6,
   "metadata": {},
   "outputs": [
    {
     "data": {
      "text/plain": [
       "(1383, 18)"
      ]
     },
     "execution_count": 6,
     "metadata": {},
     "output_type": "execute_result"
    }
   ],
   "source": [
    "dpr_data.shape"
   ]
  },
  {
   "cell_type": "code",
   "execution_count": 2,
   "metadata": {},
   "outputs": [],
   "source": [
    "import json\n",
    "with open('/PATH/dpr/data/downloads/data/retriever/nq-train.json','r') as f:\n",
    "    data = json.load(f)"
   ]
  },
  {
   "cell_type": "markdown",
   "metadata": {},
   "source": [
    "# COLLECT FLIPPED DATA"
   ]
  },
  {
   "cell_type": "code",
   "execution_count": 7,
   "metadata": {},
   "outputs": [],
   "source": [
    "dpr_filp_data = dpr_data[dpr_data['counterfactual_win']==1]\n",
    "eadpr_filp_data = eadpr_data[eadpr_data['counterfactual_win']==1]"
   ]
  },
  {
   "cell_type": "markdown",
   "metadata": {},
   "source": [
    "# Q TYPE CLASSIFICATION"
   ]
  },
  {
   "cell_type": "markdown",
   "metadata": {},
   "source": [
    "Define question type"
   ]
  },
  {
   "cell_type": "code",
   "execution_count": 8,
   "metadata": {},
   "outputs": [],
   "source": [
    "q_types = ['how','what','when','where','which','who','why']"
   ]
  },
  {
   "cell_type": "markdown",
   "metadata": {},
   "source": [
    "Filtering dataframe for each question type"
   ]
  },
  {
   "cell_type": "code",
   "execution_count": null,
   "metadata": {},
   "outputs": [],
   "source": [
    "\n",
    "# total number of samples for each q_type\n",
    "q_type_samples={}\n",
    "\n",
    "for q_type in q_types:\n",
    "    dpr_filp_data[q_type]=dpr_filp_data['question'].str.contains(q_type)\n",
    "    eadpr_filp_data[q_type]=eadpr_filp_data['question'].str.contains(q_type)\n",
    "\n",
    "    dpr_data[q_type]=dpr_data['question'].str.contains(q_type)\n",
    "    q_type_samples[q_type]=dpr_data[dpr_data[q_type]==True].shape[0]\n",
    "\n",
    "dpr_avg_dict={} # passage score - counterfactual_score \n",
    "eadpr_avg_dict={}\n",
    "\n",
    "# collect the number of flipped samples\n",
    "dpr_flip={}\n",
    "eadpr_flip={}\n",
    "\n",
    "for q_type in q_types:\n",
    "    # dpr -----------------\n",
    "    # q_type filter\n",
    "    df = dpr_filp_data[dpr_filp_data[q_type]==True]\n",
    "    #count\n",
    "    dpr_flip[q_type]=df.shape[0] \n",
    "    #score difference\n",
    "    df['diff']=df['counterfactual_score']-df['passage_score']\n",
    "    dpr_avg_dict[q_type]=df['diff'].mean()\n",
    "    # eadpr -----------------\n",
    "    # q_type filter\n",
    "    df = eadpr_filp_data[eadpr_filp_data[q_type]==True]\n",
    "    #count\n",
    "    eadpr_flip[q_type]=df.shape[0]\n",
    "     #score difference\n",
    "    df['diff']=df['counterfactual_score']-df['passage_score']\n",
    "    eadpr_avg_dict[q_type]=df['diff'].mean()\n"
   ]
  },
  {
   "cell_type": "code",
   "execution_count": 10,
   "metadata": {},
   "outputs": [
    {
     "data": {
      "text/plain": [
       "({'how': 114,\n",
       "  'what': 228,\n",
       "  'when': 295,\n",
       "  'where': 146,\n",
       "  'which': 41,\n",
       "  'who': 547,\n",
       "  'why': 3},\n",
       " 1374)"
      ]
     },
     "execution_count": 10,
     "metadata": {},
     "output_type": "execute_result"
    }
   ],
   "source": [
    "\n",
    "q_type_samples, sum(list(q_type_samples.values()))"
   ]
  },
  {
   "cell_type": "markdown",
   "metadata": {},
   "source": [
    "# DRAW A FIGURE"
   ]
  },
  {
   "cell_type": "code",
   "execution_count": 29,
   "metadata": {},
   "outputs": [],
   "source": [
    "from matplotlib import pyplot as plt"
   ]
  },
  {
   "cell_type": "code",
   "execution_count": null,
   "metadata": {},
   "outputs": [],
   "source": [
    "# plt setting\n",
    "\n",
    "bar_types = {'one_bar':0,'two_bars':1}\n",
    "BAR_TYPE='two_bars'\n",
    "\n",
    "fig, ax = plt.subplots(figsize=(9,6))\n",
    "xlabel, total = zip(*q_type_samples.items())\n",
    "total = np.array(total)\n",
    "\n",
    "bar_width = [1,0.7]\n",
    "margin= [0,0.5]  \n",
    "margin1=[0,0.1]\n",
    "margin2=[0,0.9]\n",
    "\n",
    "index = np.arange(0,len(dpr_flip)*2,2)\n",
    "\n",
    "plt.ylabel('percentage')\n",
    "plt.xlabel('question type (Natural Questions)')\n",
    "plt.xticks(index+margin[bar_types[BAR_TYPE]], xlabel)\n",
    "\n",
    "# draw\n",
    "_, y = zip(*dpr_flip.items())\n",
    "y = np.array(y)\n",
    "y = y/total*100\n",
    "plt.bar(index+margin1[bar_types[BAR_TYPE]],y,bar_width[bar_types[BAR_TYPE]],label='dpr', hatch='//',edgecolor='black',color='white')\n",
    "\n",
    "_, y = zip(*eadpr_flip.items())\n",
    "y = np.array(y)\n",
    "y = y/total*100\n",
    "plt.bar(index+margin2[bar_types[BAR_TYPE]],y,bar_width[bar_types[BAR_TYPE]],label='eadpr',edgecolor='#2b59b4',color='#d1e2ff')\n",
    "\n",
    "\n",
    "plt.legend()\n",
    "plt.savefig(f'AAR_qtype_inbatch_{BAR_TYPE}.png')"
   ]
  },
  {
   "cell_type": "markdown",
   "metadata": {},
   "source": [
    "# Generate hard as pivot dataset with multiple BM25/dpr hard negs"
   ]
  },
  {
   "cell_type": "code",
   "execution_count": 43,
   "metadata": {},
   "outputs": [],
   "source": [
    "pdf = pd.read_json('/PATH/nq-adv-hn-train-counterfactuals-sentence-mask-new-no-blank.json')"
   ]
  },
  {
   "cell_type": "code",
   "execution_count": 52,
   "metadata": {},
   "outputs": [
    {
     "data": {
      "text/html": [
       "<div>\n",
       "<style scoped>\n",
       "    .dataframe tbody tr th:only-of-type {\n",
       "        vertical-align: middle;\n",
       "    }\n",
       "\n",
       "    .dataframe tbody tr th {\n",
       "        vertical-align: top;\n",
       "    }\n",
       "\n",
       "    .dataframe thead th {\n",
       "        text-align: right;\n",
       "    }\n",
       "</style>\n",
       "<table border=\"1\" class=\"dataframe\">\n",
       "  <thead>\n",
       "    <tr style=\"text-align: right;\">\n",
       "      <th></th>\n",
       "      <th>question</th>\n",
       "      <th>answers</th>\n",
       "      <th>negative_ctxs</th>\n",
       "      <th>hard_negative_ctxs</th>\n",
       "      <th>positive_ctxs</th>\n",
       "    </tr>\n",
       "  </thead>\n",
       "  <tbody>\n",
       "    <tr>\n",
       "      <th>0</th>\n",
       "      <td>big little lies season 2 how many episodes</td>\n",
       "      <td>[seven]</td>\n",
       "      <td>[]</td>\n",
       "      <td>[{'id': '18768928', 'title': 'Big Little Lies ...</td>\n",
       "      <td>[{'title': 'Big Little Lies (TV series)', 'tex...</td>\n",
       "    </tr>\n",
       "    <tr>\n",
       "      <th>1</th>\n",
       "      <td>who sang waiting for a girl like you</td>\n",
       "      <td>[Foreigner]</td>\n",
       "      <td>[]</td>\n",
       "      <td>[{'id': '9601137', 'title': 'A Girl Like You (...</td>\n",
       "      <td>[{'title': 'Waiting for a Girl Like You', 'tex...</td>\n",
       "    </tr>\n",
       "    <tr>\n",
       "      <th>2</th>\n",
       "      <td>where do you cross the arctic circle in norway</td>\n",
       "      <td>[Saltfjellet]</td>\n",
       "      <td>[]</td>\n",
       "      <td>[{'id': '7484812', 'title': 'Nordkalottruta', ...</td>\n",
       "      <td>[{'title': 'Arctic Norway', 'text': 'Arctic No...</td>\n",
       "    </tr>\n",
       "    <tr>\n",
       "      <th>3</th>\n",
       "      <td>who is the main character in green eggs and ham</td>\n",
       "      <td>[Sam - I - am]</td>\n",
       "      <td>[]</td>\n",
       "      <td>[{'id': '7520524', 'title': 'The Green Man (Am...</td>\n",
       "      <td>[{'title': 'Green Eggs and Ham', 'text': '(in ...</td>\n",
       "    </tr>\n",
       "    <tr>\n",
       "      <th>4</th>\n",
       "      <td>do veins carry blood to the heart or away</td>\n",
       "      <td>[to]</td>\n",
       "      <td>[]</td>\n",
       "      <td>[{'id': '16063616', 'title': 'Venae cavae', 't...</td>\n",
       "      <td>[{'title': 'Vein', 'text': 'Vein Veins are blo...</td>\n",
       "    </tr>\n",
       "  </tbody>\n",
       "</table>\n",
       "</div>"
      ],
      "text/plain": [
       "                                          question         answers  \\\n",
       "0       big little lies season 2 how many episodes         [seven]   \n",
       "1             who sang waiting for a girl like you     [Foreigner]   \n",
       "2   where do you cross the arctic circle in norway   [Saltfjellet]   \n",
       "3  who is the main character in green eggs and ham  [Sam - I - am]   \n",
       "4        do veins carry blood to the heart or away            [to]   \n",
       "\n",
       "  negative_ctxs                                 hard_negative_ctxs  \\\n",
       "0            []  [{'id': '18768928', 'title': 'Big Little Lies ...   \n",
       "1            []  [{'id': '9601137', 'title': 'A Girl Like You (...   \n",
       "2            []  [{'id': '7484812', 'title': 'Nordkalottruta', ...   \n",
       "3            []  [{'id': '7520524', 'title': 'The Green Man (Am...   \n",
       "4            []  [{'id': '16063616', 'title': 'Venae cavae', 't...   \n",
       "\n",
       "                                       positive_ctxs  \n",
       "0  [{'title': 'Big Little Lies (TV series)', 'tex...  \n",
       "1  [{'title': 'Waiting for a Girl Like You', 'tex...  \n",
       "2  [{'title': 'Arctic Norway', 'text': 'Arctic No...  \n",
       "3  [{'title': 'Green Eggs and Ham', 'text': '(in ...  \n",
       "4  [{'title': 'Vein', 'text': 'Vein Veins are blo...  "
      ]
     },
     "execution_count": 52,
     "metadata": {},
     "output_type": "execute_result"
    }
   ],
   "source": [
    "pdf_new=pdf.drop(columns=['cf_negative_ctxs'])\n",
    "pdf_new=pdf_new[pdf_new['hard_negative_ctxs']!=pdf_new['negative_ctxs']]\n",
    "pdf_new.head()"
   ]
  },
  {
   "cell_type": "code",
   "execution_count": 54,
   "metadata": {},
   "outputs": [
    {
     "data": {
      "text/html": [
       "<div>\n",
       "<style scoped>\n",
       "    .dataframe tbody tr th:only-of-type {\n",
       "        vertical-align: middle;\n",
       "    }\n",
       "\n",
       "    .dataframe tbody tr th {\n",
       "        vertical-align: top;\n",
       "    }\n",
       "\n",
       "    .dataframe thead th {\n",
       "        text-align: right;\n",
       "    }\n",
       "</style>\n",
       "<table border=\"1\" class=\"dataframe\">\n",
       "  <thead>\n",
       "    <tr style=\"text-align: right;\">\n",
       "      <th></th>\n",
       "      <th>question</th>\n",
       "      <th>answers</th>\n",
       "      <th>negative_ctxs</th>\n",
       "      <th>cf_negative_ctxs</th>\n",
       "      <th>positive_ctxs</th>\n",
       "      <th>hard_negative_ctxs</th>\n",
       "    </tr>\n",
       "  </thead>\n",
       "  <tbody>\n",
       "    <tr>\n",
       "      <th>0</th>\n",
       "      <td>big little lies season 2 how many episodes</td>\n",
       "      <td>[seven]</td>\n",
       "      <td>[]</td>\n",
       "      <td>[{'id': '18768928', 'title': 'Big Little Lies ...</td>\n",
       "      <td>[{'title': 'Big Little Lies (TV series)', 'tex...</td>\n",
       "      <td>[]</td>\n",
       "    </tr>\n",
       "    <tr>\n",
       "      <th>1</th>\n",
       "      <td>who sang waiting for a girl like you</td>\n",
       "      <td>[Foreigner]</td>\n",
       "      <td>[]</td>\n",
       "      <td>[{'id': '9601137', 'title': 'A Girl Like You (...</td>\n",
       "      <td>[{'title': 'Waiting for a Girl Like You', 'tex...</td>\n",
       "      <td>[]</td>\n",
       "    </tr>\n",
       "    <tr>\n",
       "      <th>2</th>\n",
       "      <td>where do you cross the arctic circle in norway</td>\n",
       "      <td>[Saltfjellet]</td>\n",
       "      <td>[]</td>\n",
       "      <td>[{'id': '7484812', 'title': 'Nordkalottruta', ...</td>\n",
       "      <td>[{'title': 'Arctic Norway', 'text': 'Arctic No...</td>\n",
       "      <td>[]</td>\n",
       "    </tr>\n",
       "    <tr>\n",
       "      <th>3</th>\n",
       "      <td>who is the main character in green eggs and ham</td>\n",
       "      <td>[Sam - I - am]</td>\n",
       "      <td>[]</td>\n",
       "      <td>[{'id': '7520524', 'title': 'The Green Man (Am...</td>\n",
       "      <td>[{'title': 'Green Eggs and Ham', 'text': '(in ...</td>\n",
       "      <td>[]</td>\n",
       "    </tr>\n",
       "    <tr>\n",
       "      <th>4</th>\n",
       "      <td>do veins carry blood to the heart or away</td>\n",
       "      <td>[to]</td>\n",
       "      <td>[]</td>\n",
       "      <td>[{'id': '16063616', 'title': 'Venae cavae', 't...</td>\n",
       "      <td>[{'title': 'Vein', 'text': 'Vein Veins are blo...</td>\n",
       "      <td>[]</td>\n",
       "    </tr>\n",
       "  </tbody>\n",
       "</table>\n",
       "</div>"
      ],
      "text/plain": [
       "                                          question         answers  \\\n",
       "0       big little lies season 2 how many episodes         [seven]   \n",
       "1             who sang waiting for a girl like you     [Foreigner]   \n",
       "2   where do you cross the arctic circle in norway   [Saltfjellet]   \n",
       "3  who is the main character in green eggs and ham  [Sam - I - am]   \n",
       "4        do veins carry blood to the heart or away            [to]   \n",
       "\n",
       "  negative_ctxs                                   cf_negative_ctxs  \\\n",
       "0            []  [{'id': '18768928', 'title': 'Big Little Lies ...   \n",
       "1            []  [{'id': '9601137', 'title': 'A Girl Like You (...   \n",
       "2            []  [{'id': '7484812', 'title': 'Nordkalottruta', ...   \n",
       "3            []  [{'id': '7520524', 'title': 'The Green Man (Am...   \n",
       "4            []  [{'id': '16063616', 'title': 'Venae cavae', 't...   \n",
       "\n",
       "                                       positive_ctxs hard_negative_ctxs  \n",
       "0  [{'title': 'Big Little Lies (TV series)', 'tex...                 []  \n",
       "1  [{'title': 'Waiting for a Girl Like You', 'tex...                 []  \n",
       "2  [{'title': 'Arctic Norway', 'text': 'Arctic No...                 []  \n",
       "3  [{'title': 'Green Eggs and Ham', 'text': '(in ...                 []  \n",
       "4  [{'title': 'Vein', 'text': 'Vein Veins are blo...                 []  "
      ]
     },
     "execution_count": 54,
     "metadata": {},
     "output_type": "execute_result"
    }
   ],
   "source": [
    "pdf_new.columns=['question','answers','negative_ctxs','cf_negative_ctxs','positive_ctxs']\n",
    "pdf_new['hard_negative_ctxs']=pdf_new['negative_ctxs']\n",
    "pdf_new.head()"
   ]
  },
  {
   "cell_type": "code",
   "execution_count": 55,
   "metadata": {},
   "outputs": [],
   "source": [
    "pdf_new.to_json('nq-adv-hn-train-all-hardnegs-as-counterfactuals.json',orient='records')"
   ]
  },
  {
   "cell_type": "code",
   "execution_count": null,
   "metadata": {},
   "outputs": [],
   "source": []
  }
 ],
 "metadata": {
  "kernelspec": {
   "display_name": "Python 3.8.13 ('yhs')",
   "language": "python",
   "name": "python3"
  },
  "language_info": {
   "codemirror_mode": {
    "name": "ipython",
    "version": 3
   },
   "file_extension": ".py",
   "mimetype": "text/x-python",
   "name": "python",
   "nbconvert_exporter": "python",
   "pygments_lexer": "ipython3",
   "version": "3.8.13 (default, Mar 28 2022, 11:38:47) \n[GCC 7.5.0]"
  },
  "orig_nbformat": 4,
  "vscode": {
   "interpreter": {
    "hash": "521ada6ce993e60f4929eef7bf9c2973b2895573f42c0bf4970658dab7fb8207"
   }
  }
 },
 "nbformat": 4,
 "nbformat_minor": 2
}
