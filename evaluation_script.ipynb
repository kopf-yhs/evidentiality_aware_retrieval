{
 "cells": [
  {
   "cell_type": "code",
   "execution_count": 301,
   "metadata": {},
   "outputs": [],
   "source": [
    "import json\n",
    "\n",
    "SCORE_FILE = ''\n",
    "K = 20\n",
    "with open(SCORE_FILE,'r') as f:\n",
    "    scores = json.load(f)"
   ]
  },
  {
   "cell_type": "code",
   "execution_count": 302,
   "metadata": {},
   "outputs": [],
   "source": [
    "import numpy as np\n",
    "\n",
    "# Mean Average Precision\n",
    "\n",
    "def average_precision(query_result, k):\n",
    "    count_1 = 0.0\n",
    "    iter_k = min(k,len(query_result))\n",
    "    sum_precision = 0.0\n",
    "    for i in range(iter_k):\n",
    "        count_1 += query_result[i]\n",
    "        precision = count_1/(i+1)\n",
    "        sum_precision += precision * query_result[i]\n",
    "    if count_1 == 0.0:\n",
    "        return 0.0\n",
    "    return sum_precision/count_1\n",
    "\n",
    "def mean_average_precision(results, k=0):    \n",
    "    if k:\n",
    "        aps = [average_precision(line, k) for line in results]\n",
    "    else:\n",
    "        aps = [average_precision(line, len(line)) for line in results]\n",
    "    return np.mean(aps)"
   ]
  },
  {
   "cell_type": "code",
   "execution_count": 303,
   "metadata": {},
   "outputs": [],
   "source": [
    "# Mean Reciprocal Rank\n",
    "\n",
    "def mrr(results):\n",
    "    ranks = []\n",
    "    for line in results:\n",
    "        labels = [entry for entry in line]\n",
    "        if 1.0 in labels:\n",
    "            first_occurrence = labels.index(1.0) + 1\n",
    "            rec_rank = 1/first_occurrence\n",
    "        else:\n",
    "            rec_rank=0.0\n",
    "        ranks.append(rec_rank)\n",
    "    return np.mean(np.array(ranks))"
   ]
  },
  {
   "cell_type": "code",
   "execution_count": 304,
   "metadata": {},
   "outputs": [],
   "source": [
    "labels = list()\n",
    "for entry in scores:\n",
    "    label_per_entry = list()\n",
    "    for psgs in entry['ctxs']:\n",
    "        label_per_entry.append(psgs['has_answer'])\n",
    "    labels.append(label_per_entry)"
   ]
  },
  {
   "cell_type": "code",
   "execution_count": 305,
   "metadata": {},
   "outputs": [
    {
     "data": {
      "text/plain": [
       "0.4905375579804394"
      ]
     },
     "execution_count": 305,
     "metadata": {},
     "output_type": "execute_result"
    }
   ],
   "source": [
    "mean_average_precision(labels, k=K)"
   ]
  },
  {
   "cell_type": "code",
   "execution_count": 306,
   "metadata": {},
   "outputs": [
    {
     "data": {
      "text/plain": [
       "0.6105970256749849"
      ]
     },
     "execution_count": 306,
     "metadata": {},
     "output_type": "execute_result"
    }
   ],
   "source": [
    "mrr(labels)"
   ]
  }
 ],
 "metadata": {
  "kernelspec": {
   "display_name": "yhs",
   "language": "python",
   "name": "python3"
  },
  "language_info": {
   "codemirror_mode": {
    "name": "ipython",
    "version": 3
   },
   "file_extension": ".py",
   "mimetype": "text/x-python",
   "name": "python",
   "nbconvert_exporter": "python",
   "pygments_lexer": "ipython3",
   "version": "3.8.13 (default, Mar 28 2022, 11:38:47) \n[GCC 7.5.0]"
  },
  "orig_nbformat": 4,
  "vscode": {
   "interpreter": {
    "hash": "521ada6ce993e60f4929eef7bf9c2973b2895573f42c0bf4970658dab7fb8207"
   }
  }
 },
 "nbformat": 4,
 "nbformat_minor": 2
}
